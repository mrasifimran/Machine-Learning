{
  "nbformat": 4,
  "nbformat_minor": 0,
  "metadata": {
    "colab": {
      "provenance": [],
      "include_colab_link": true
    },
    "kernelspec": {
      "name": "python3",
      "display_name": "Python 3"
    },
    "language_info": {
      "name": "python"
    }
  },
  "cells": [
    {
      "cell_type": "markdown",
      "metadata": {
        "id": "view-in-github",
        "colab_type": "text"
      },
      "source": [
        "<a href=\"https://colab.research.google.com/github/mrasifimran/Machine-Learning/blob/main/Iris12345.ipynb\" target=\"_parent\"><img src=\"https://colab.research.google.com/assets/colab-badge.svg\" alt=\"Open In Colab\"/></a>"
      ]
    },
    {
      "cell_type": "code",
      "execution_count": null,
      "metadata": {
        "id": "IcDdbj5UFx4n"
      },
      "outputs": [],
      "source": [
        "\n",
        "import numpy as np\n",
        "from sklearn import datasets\n",
        "from sklearn.model_selection import train_test_split\n",
        "\n",
        "from keras import models\n",
        "from keras import layers\n",
        "from keras.utils import to_categorical\n",
        "\n",
        "\n",
        "\n",
        "iris = datasets.load_iris()\n",
        "X = iris.data\n",
        "y = iris.target\n",
        "\n",
        "X_train, X_test, y_train, y_test = train_test_split(X, y, test_size=0.3, stratify=y, random_state=42)\n",
        "\n",
        "train_labels = to_categorical(y_train)\n",
        "test_labels = to_categorical(y_test)\n",
        "network = models.Sequential()\n",
        "network.add(layers.Dense(512, activation='relu', input_shape=(4,)))\n",
        "network.add(layers.Dense(256,activation='relu'))\n",
        "network.add(layers.Dense(128,activation='relu'))\n",
        "\n",
        "network.add(layers.Dense(3, activation='softmax'))\n",
        "\n",
        "network.compile(optimizer='rmsprop',\n",
        "                loss='categorical_crossentropy',\n",
        "                metrics=['accuracy'])\n",
        "\n"
      ]
    },
    {
      "cell_type": "code",
      "source": [
        "network.summary()"
      ],
      "metadata": {
        "colab": {
          "base_uri": "https://localhost:8080/"
        },
        "id": "ZpUO8XEDVIFr",
        "outputId": "2fb4fe05-d13d-4f5f-e8af-2577de34431e"
      },
      "execution_count": null,
      "outputs": [
        {
          "output_type": "stream",
          "name": "stdout",
          "text": [
            "Model: \"sequential\"\n",
            "_________________________________________________________________\n",
            " Layer (type)                Output Shape              Param #   \n",
            "=================================================================\n",
            " dense (Dense)               (None, 512)               2560      \n",
            "                                                                 \n",
            " dense_1 (Dense)             (None, 256)               131328    \n",
            "                                                                 \n",
            " dense_2 (Dense)             (None, 128)               32896     \n",
            "                                                                 \n",
            " dense_3 (Dense)             (None, 3)                 387       \n",
            "                                                                 \n",
            "=================================================================\n",
            "Total params: 167,171\n",
            "Trainable params: 167,171\n",
            "Non-trainable params: 0\n",
            "_________________________________________________________________\n"
          ]
        }
      ]
    },
    {
      "cell_type": "code",
      "source": [
        "history=network.fit(X_train, train_labels, epochs=20, batch_size=40,validation_data=(X_test,test_labels ))"
      ],
      "metadata": {
        "colab": {
          "base_uri": "https://localhost:8080/"
        },
        "id": "trZ5vFb3VHfc",
        "outputId": "990a90ce-4002-4854-e6f0-624bf5957773"
      },
      "execution_count": null,
      "outputs": [
        {
          "output_type": "stream",
          "name": "stdout",
          "text": [
            "Epoch 1/20\n",
            "3/3 [==============================] - 1s 123ms/step - loss: 0.9818 - accuracy: 0.4762 - val_loss: 0.6931 - val_accuracy: 0.6667\n",
            "Epoch 2/20\n",
            "3/3 [==============================] - 0s 23ms/step - loss: 0.7209 - accuracy: 0.6286 - val_loss: 0.6285 - val_accuracy: 0.6667\n",
            "Epoch 3/20\n",
            "3/3 [==============================] - 0s 23ms/step - loss: 0.5646 - accuracy: 0.7619 - val_loss: 0.4604 - val_accuracy: 0.7111\n",
            "Epoch 4/20\n",
            "3/3 [==============================] - 0s 22ms/step - loss: 0.4825 - accuracy: 0.7048 - val_loss: 0.4254 - val_accuracy: 0.8889\n",
            "Epoch 5/20\n",
            "3/3 [==============================] - 0s 25ms/step - loss: 0.4361 - accuracy: 0.7810 - val_loss: 0.4645 - val_accuracy: 0.6667\n",
            "Epoch 6/20\n",
            "3/3 [==============================] - 0s 22ms/step - loss: 0.3810 - accuracy: 0.7810 - val_loss: 0.3408 - val_accuracy: 0.9556\n",
            "Epoch 7/20\n",
            "3/3 [==============================] - 0s 21ms/step - loss: 0.3840 - accuracy: 0.8952 - val_loss: 0.6947 - val_accuracy: 0.6667\n",
            "Epoch 8/20\n",
            "3/3 [==============================] - 0s 26ms/step - loss: 0.5499 - accuracy: 0.7333 - val_loss: 0.3254 - val_accuracy: 0.9556\n",
            "Epoch 9/20\n",
            "3/3 [==============================] - 0s 21ms/step - loss: 0.3763 - accuracy: 0.8095 - val_loss: 0.3865 - val_accuracy: 0.7333\n",
            "Epoch 10/20\n",
            "3/3 [==============================] - 0s 24ms/step - loss: 0.3051 - accuracy: 0.8762 - val_loss: 0.3194 - val_accuracy: 0.8222\n",
            "Epoch 11/20\n",
            "3/3 [==============================] - 0s 23ms/step - loss: 0.3205 - accuracy: 0.8571 - val_loss: 0.3879 - val_accuracy: 0.7333\n",
            "Epoch 12/20\n",
            "3/3 [==============================] - 0s 28ms/step - loss: 0.2484 - accuracy: 0.9143 - val_loss: 0.3208 - val_accuracy: 0.8222\n",
            "Epoch 13/20\n",
            "3/3 [==============================] - 0s 23ms/step - loss: 0.2638 - accuracy: 0.8476 - val_loss: 0.2205 - val_accuracy: 0.9556\n",
            "Epoch 14/20\n",
            "3/3 [==============================] - 0s 30ms/step - loss: 0.2559 - accuracy: 0.9048 - val_loss: 0.4830 - val_accuracy: 0.7111\n",
            "Epoch 15/20\n",
            "3/3 [==============================] - 0s 22ms/step - loss: 0.2182 - accuracy: 0.9238 - val_loss: 0.2157 - val_accuracy: 0.9111\n",
            "Epoch 16/20\n",
            "3/3 [==============================] - 0s 22ms/step - loss: 0.2950 - accuracy: 0.8571 - val_loss: 0.5643 - val_accuracy: 0.7111\n",
            "Epoch 17/20\n",
            "3/3 [==============================] - 0s 26ms/step - loss: 0.2618 - accuracy: 0.8952 - val_loss: 0.2461 - val_accuracy: 0.8444\n",
            "Epoch 18/20\n",
            "3/3 [==============================] - 0s 31ms/step - loss: 0.1902 - accuracy: 0.9333 - val_loss: 0.4581 - val_accuracy: 0.7556\n",
            "Epoch 19/20\n",
            "3/3 [==============================] - 0s 24ms/step - loss: 0.6084 - accuracy: 0.6762 - val_loss: 0.2610 - val_accuracy: 0.8222\n",
            "Epoch 20/20\n",
            "3/3 [==============================] - 0s 22ms/step - loss: 0.1865 - accuracy: 0.9714 - val_loss: 0.1696 - val_accuracy: 0.9778\n"
          ]
        }
      ]
    },
    {
      "cell_type": "code",
      "source": [
        "\n",
        "test_loss, test_acc = network.evaluate(X_test, test_labels)\n",
        "\n",
        "print('Test Accuracy: ', test_acc, '\\nTest Loss: ', test_loss)"
      ],
      "metadata": {
        "id": "qNaCtyKATTN8"
      },
      "execution_count": null,
      "outputs": []
    },
    {
      "cell_type": "code",
      "source": [
        "import matplotlib.pyplot as plt\n"
      ],
      "metadata": {
        "id": "NEdiodTzVl4E"
      },
      "execution_count": null,
      "outputs": []
    },
    {
      "cell_type": "code",
      "source": [
        "plt.plot(history.history['accuracy'],label='Training')\n",
        "plt.plot(history.history['val_accuracy'],label='testing')\n",
        "plt.legend()\n",
        "plt.show()"
      ],
      "metadata": {
        "colab": {
          "base_uri": "https://localhost:8080/",
          "height": 268
        },
        "id": "pYy0XwFwVUZz",
        "outputId": "e5abe072-5422-482c-fa3e-ae1083da2cf8"
      },
      "execution_count": null,
      "outputs": [
        {
          "output_type": "display_data",
          "data": {
            "text/plain": [
              "<Figure size 432x288 with 1 Axes>"
            ],
            "image/png": "[encoded data removed]"
          },
          "metadata": {
            "needs_background": "light"
          }
        }
      ]
    },
    {
      "cell_type": "code",
      "source": [],
      "metadata": {
        "id": "7hgUFYLqVqTr"
      },
      "execution_count": null,
      "outputs": []
    }
  ]
}