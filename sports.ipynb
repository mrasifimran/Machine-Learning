{
  "nbformat": 4,
  "nbformat_minor": 0,
  "metadata": {
    "colab": {
      "provenance": [],
      "include_colab_link": true
    },
    "kernelspec": {
      "name": "python3",
      "display_name": "Python 3"
    },
    "language_info": {
      "name": "python"
    },
    "accelerator": "GPU",
    "gpuClass": "standard"
  },
  "cells": [
    {
      "cell_type": "markdown",
      "metadata": {
        "id": "view-in-github",
        "colab_type": "text"
      },
      "source": [
        "<a href=\"https://colab.research.google.com/github/mrasifimran/Machine-Learning/blob/main/sports.ipynb\" target=\"_parent\"><img src=\"https://colab.research.google.com/assets/colab-badge.svg\" alt=\"Open In Colab\"/></a>"
      ]
    },
    {
      "cell_type": "code",
      "execution_count": null,
      "metadata": {
        "id": "4OT7bDLsREYD",
        "outputId": "c6369ba1-d8a4-4e78-fc82-6f1c2f9ae404",
        "colab": {
          "base_uri": "https://localhost:8080/"
        }
      },
      "outputs": [
        {
          "output_type": "stream",
          "name": "stdout",
          "text": [
            "cp: cannot stat 'kaggle.json': No such file or directory\n"
          ]
        }
      ],
      "source": [
        "!mkdir -p ~/.kaggle\n",
        "!cp kaggle.json ~/.kaggle/"
      ]
    },
    {
      "cell_type": "code",
      "source": [
        "!kaggle datasets download -d gpiosenka/sports-classification"
      ],
      "metadata": {
        "colab": {
          "base_uri": "https://localhost:8080/"
        },
        "id": "usc0eQoyVYrT",
        "outputId": "edf69f7c-ca2e-4b65-f13b-48e7e8e13d56"
      },
      "execution_count": null,
      "outputs": [
        {
          "output_type": "stream",
          "name": "stdout",
          "text": [
            "Traceback (most recent call last):\n",
            "  File \"/usr/local/bin/kaggle\", line 5, in <module>\n",
            "    from kaggle.cli import main\n",
            "  File \"/usr/local/lib/python3.8/dist-packages/kaggle/__init__.py\", line 23, in <module>\n",
            "    api.authenticate()\n",
            "  File \"/usr/local/lib/python3.8/dist-packages/kaggle/api/kaggle_api_extended.py\", line 164, in authenticate\n",
            "    raise IOError('Could not find {}. Make sure it\\'s located in'\n",
            "OSError: Could not find kaggle.json. Make sure it's located in /root/.kaggle. Or use the environment method.\n"
          ]
        }
      ]
    },
    {
      "cell_type": "code",
      "source": [
        "import zipfile\n",
        "zip_ref = zipfile.ZipFile('/content/sports-classification.zip', 'r')\n",
        "zip_ref.extractall('/content')\n",
        "zip_ref.close()"
      ],
      "metadata": {
        "id": "oFu3WsY9WuuE"
      },
      "execution_count": null,
      "outputs": []
    },
    {
      "cell_type": "code",
      "source": [
        "import tensorflow as tf\n",
        "from tensorflow import keras\n",
        "from keras import Sequential\n",
        "from keras.layers import Dense,Conv2D,MaxPooling2D,Flatten\n"
      ],
      "metadata": {
        "id": "Eb_aHqaRW1aN"
      },
      "execution_count": null,
      "outputs": []
    },
    {
      "cell_type": "code",
      "source": [
        "import tensorflow as tf\n",
        "from tensorflow import keras\n",
        "from keras import Sequential\n",
        "from keras.layers import Dense,Conv2D,MaxPooling2D,Flatten"
      ],
      "metadata": {
        "id": "oFzsxcV7K1wE"
      },
      "execution_count": null,
      "outputs": []
    },
    {
      "cell_type": "code",
      "source": [
        "train_datagen = tf.keras.preprocessing.image_dataset_from_directory(\n",
        "                                                '/content/train',\n",
        "                                                labels=\"inferred\",\n",
        "                                                label_mode=\"int\",\n",
        "                                                color_mode=\"rgb\",\n",
        "                                                batch_size=32,\n",
        "                                                image_size=(256, 256))\n",
        "test_datagen = tf.keras.preprocessing.image_dataset_from_directory(\n",
        "                                                '/content/test',\n",
        "                                                labels=\"inferred\",\n",
        "                                                label_mode=\"int\",\n",
        "                                                color_mode=\"rgb\",\n",
        "                                                batch_size=32,\n",
        "                                                image_size=(256, 256))"
      ],
      "metadata": {
        "colab": {
          "base_uri": "https://localhost:8080/"
        },
        "id": "O-qyF6_9JtDf",
        "outputId": "cc6d3ad1-5137-446c-ecbc-a10162483ffc"
      },
      "execution_count": null,
      "outputs": [
        {
          "output_type": "stream",
          "name": "stdout",
          "text": [
            "Found 13572 files belonging to 100 classes.\n",
            "Found 500 files belonging to 100 classes.\n"
          ]
        }
      ]
    },
    {
      "cell_type": "code",
      "source": [
        "def image_processor(image,label):\n",
        "  image = tf.cast(image/255.,tf.float32)\n",
        "  return image,label\n",
        "\n",
        "train_datagen = train_datagen.map(image_processor)\n",
        "test_datagen = test_datagen.map(image_processor)"
      ],
      "metadata": {
        "id": "g2KGclplWlHj"
      },
      "execution_count": null,
      "outputs": []
    },
    {
      "cell_type": "code",
      "source": [
        "model = Sequential()\n",
        "model.add(Conv2D(32,(3,3),activation='relu',input_shape=(256,256,3)))\n",
        "model.add(MaxPooling2D(pool_size=(2,2),strides=2))\n",
        "\n",
        "model.add(Conv2D(64,(3,3),activation='relu'))\n",
        "model.add(MaxPooling2D(pool_size=(2,2),strides=2))\n",
        "\n",
        "model.add(Conv2D(128,(3,3),activation='relu'))\n",
        "model.add(MaxPooling2D(pool_size=(2,2),strides=2))\n",
        "\n",
        "model.add(Flatten())\n",
        "model.add(Dense(128,activation='relu'))\n",
        "model.add(Dense(64,activation='relu'))\n",
        "model.add(Dense(100,activation='softmax'))"
      ],
      "metadata": {
        "id": "RZ7cUsh7aZwG"
      },
      "execution_count": null,
      "outputs": []
    },
    {
      "cell_type": "code",
      "source": [
        "model.summary()"
      ],
      "metadata": {
        "colab": {
          "base_uri": "https://localhost:8080/"
        },
        "id": "B-pexibIaZ2W",
        "outputId": "52f375d7-5a92-4f8b-d71f-2f0719f80261"
      },
      "execution_count": null,
      "outputs": [
        {
          "output_type": "stream",
          "name": "stdout",
          "text": [
            "Model: \"sequential_2\"\n",
            "_________________________________________________________________\n",
            " Layer (type)                Output Shape              Param #   \n",
            "=================================================================\n",
            " conv2d_6 (Conv2D)           (None, 254, 254, 32)      896       \n",
            "                                                                 \n",
            " max_pooling2d_6 (MaxPooling  (None, 127, 127, 32)     0         \n",
            " 2D)                                                             \n",
            "                                                                 \n",
            " conv2d_7 (Conv2D)           (None, 125, 125, 64)      18496     \n",
            "                                                                 \n",
            " max_pooling2d_7 (MaxPooling  (None, 62, 62, 64)       0         \n",
            " 2D)                                                             \n",
            "                                                                 \n",
            " conv2d_8 (Conv2D)           (None, 60, 60, 128)       73856     \n",
            "                                                                 \n",
            " max_pooling2d_8 (MaxPooling  (None, 30, 30, 128)      0         \n",
            " 2D)                                                             \n",
            "                                                                 \n",
            " flatten_2 (Flatten)         (None, 115200)            0         \n",
            "                                                                 \n",
            " dense_6 (Dense)             (None, 128)               14745728  \n",
            "                                                                 \n",
            " dense_7 (Dense)             (None, 64)                8256      \n",
            "                                                                 \n",
            " dense_8 (Dense)             (None, 100)               6500      \n",
            "                                                                 \n",
            "=================================================================\n",
            "Total params: 14,853,732\n",
            "Trainable params: 14,853,732\n",
            "Non-trainable params: 0\n",
            "_________________________________________________________________\n"
          ]
        }
      ]
    },
    {
      "cell_type": "code",
      "source": [
        "model.compile(optimizer='adam',\n",
        "              loss='sparse_categorical_crossentropy',\n",
        "              metrics = ['accuracy']\n",
        "              )"
      ],
      "metadata": {
        "id": "OYRJgvbJakLu"
      },
      "execution_count": null,
      "outputs": []
    },
    {
      "cell_type": "code",
      "source": [
        "history = model.fit(train_datagen,epochs=5,validation_data=test_datagen)"
      ],
      "metadata": {
        "colab": {
          "base_uri": "https://localhost:8080/"
        },
        "id": "p-f3TmrXakT9",
        "outputId": "d44e1f6c-78f5-419d-e520-2a0c7f73d3ff"
      },
      "execution_count": null,
      "outputs": [
        {
          "output_type": "stream",
          "name": "stdout",
          "text": [
            "Epoch 1/5\n",
            "425/425 [==============================] - 33s 72ms/step - loss: 4.2240 - accuracy: 0.0513 - val_loss: 3.6401 - val_accuracy: 0.1380\n",
            "Epoch 2/5\n",
            "425/425 [==============================] - 30s 70ms/step - loss: 3.3567 - accuracy: 0.1779 - val_loss: 2.9169 - val_accuracy: 0.2320\n",
            "Epoch 3/5\n",
            "425/425 [==============================] - 31s 73ms/step - loss: 2.5584 - accuracy: 0.3410 - val_loss: 2.7564 - val_accuracy: 0.3180\n",
            "Epoch 4/5\n",
            "425/425 [==============================] - 30s 70ms/step - loss: 1.7193 - accuracy: 0.5362 - val_loss: 3.1808 - val_accuracy: 0.3160\n",
            "Epoch 5/5\n",
            "425/425 [==============================] - 30s 70ms/step - loss: 1.0035 - accuracy: 0.7191 - val_loss: 4.0549 - val_accuracy: 0.3020\n"
          ]
        }
      ]
    },
    {
      "cell_type": "code",
      "source": [
        "import matplotlib.pyplot as plt\n",
        "plt.plot(history.history['accuracy'],label=\"Training\")\n",
        "plt.plot(history.history['val_accuracy'], label=\"Test\")\n",
        "plt.legend()\n",
        "plt.show()"
      ],
      "metadata": {
        "colab": {
          "base_uri": "https://localhost:8080/",
          "height": 265
        },
        "id": "qwhJm7OwqU1w",
        "outputId": "b8bbe51c-6d04-42bb-e64d-b828eb607915"
      },
      "execution_count": null,
      "outputs": [
        {
          "output_type": "display_data",
          "data": {
            "text/plain": [
              "<Figure size 432x288 with 1 Axes>"
            ],
            "image/png": "[encoded data removed]"
          },
          "metadata": {
            "needs_background": "light"
          }
        }
      ]
    },
    {
      "cell_type": "code",
      "source": [
        "plt.plot(history.history['loss'],label=\"Training\")\n",
        "plt.plot(history.history['val_loss'], label=\"Test\")\n",
        "plt.legend()\n",
        "plt.show()"
      ],
      "metadata": {
        "colab": {
          "base_uri": "https://localhost:8080/",
          "height": 265
        },
        "id": "JeOMl2zJqVBC",
        "outputId": "8f988d69-54b7-46f1-a6ff-3f526945e77c"
      },
      "execution_count": null,
      "outputs": [
        {
          "output_type": "display_data",
          "data": {
            "text/plain": [
              "<Figure size 432x288 with 1 Axes>"
            ],
            "image/png": "[encoded data removed]"
          },
          "metadata": {
            "needs_background": "light"
          }
        }
      ]
    },
    {
      "cell_type": "code",
      "source": [
        "from keras.layers import BatchNormalization,Dropout"
      ],
      "metadata": {
        "id": "1NWx8L51qVJ6"
      },
      "execution_count": null,
      "outputs": []
    },
    {
      "cell_type": "code",
      "source": [
        "model2 = Sequential()\n",
        "model2.add(Conv2D(32,(3,3),activation='relu',input_shape=(256,256,3)))\n",
        "model2.add(BatchNormalization())\n",
        "model2.add(MaxPooling2D(pool_size=(2,2),strides=2))\n",
        "\n",
        "model2.add(Conv2D(64,(3,3),activation='relu'))\n",
        "model2.add(BatchNormalization())\n",
        "model2.add(MaxPooling2D(pool_size=(2,2),strides=2))\n",
        "\n",
        "model2.add(Conv2D(128,(3,3),activation='relu'))\n",
        "model2.add(BatchNormalization())\n",
        "model2.add(MaxPooling2D(pool_size=(2,2),strides=2))\n",
        "\n",
        "model2.add(Flatten())\n",
        "model2.add(Dense(128,activation='relu',kernel_regularizer=tf.keras.regularizers.l2(0.03)))\n",
        "model2.add(Dropout(0.2))\n",
        "model2.add(Dense(64,activation='relu',kernel_regularizer=tf.keras.regularizers.l2(0.03)))\n",
        "model2.add(Dropout(0.1))\n",
        "model2.add(Dense(100,activation='softmax'))"
      ],
      "metadata": {
        "id": "X6yaqDi7qei0"
      },
      "execution_count": null,
      "outputs": []
    },
    {
      "cell_type": "code",
      "source": [
        "model2.compile(optimizer='adam',\n",
        "              loss='sparse_categorical_crossentropy',\n",
        "              metrics = ['accuracy']\n",
        "              )"
      ],
      "metadata": {
        "id": "J43Vmpm7qhDG"
      },
      "execution_count": null,
      "outputs": []
    },
    {
      "cell_type": "code",
      "source": [
        "history2 = model2.fit(train_datagen,epochs=10,validation_data=test_datagen)"
      ],
      "metadata": {
        "colab": {
          "base_uri": "https://localhost:8080/"
        },
        "id": "KdT9OPxCqi7G",
        "outputId": "7ad56124-0baa-4c26-bce3-3630b1dc0b6b"
      },
      "execution_count": null,
      "outputs": [
        {
          "output_type": "stream",
          "name": "stdout",
          "text": [
            "Epoch 1/10\n",
            "425/425 [==============================] - 44s 95ms/step - loss: 9.8344 - accuracy: 0.0116 - val_loss: 5.7388 - val_accuracy: 0.0120\n",
            "Epoch 2/10\n",
            "425/425 [==============================] - 40s 94ms/step - loss: 5.8536 - accuracy: 0.0214 - val_loss: 5.5518 - val_accuracy: 0.0360\n",
            "Epoch 3/10\n",
            "425/425 [==============================] - 40s 93ms/step - loss: 5.4614 - accuracy: 0.0331 - val_loss: 5.3852 - val_accuracy: 0.0560\n",
            "Epoch 4/10\n",
            "425/425 [==============================] - 40s 94ms/step - loss: 5.3132 - accuracy: 0.0599 - val_loss: 5.3034 - val_accuracy: 0.0620\n",
            "Epoch 5/10\n",
            "425/425 [==============================] - 40s 93ms/step - loss: 5.0784 - accuracy: 0.0886 - val_loss: 4.9119 - val_accuracy: 0.1080\n",
            "Epoch 6/10\n",
            "425/425 [==============================] - 40s 94ms/step - loss: 5.0744 - accuracy: 0.1067 - val_loss: 4.8863 - val_accuracy: 0.1220\n",
            "Epoch 7/10\n",
            "425/425 [==============================] - 40s 93ms/step - loss: 5.2206 - accuracy: 0.1184 - val_loss: 5.2495 - val_accuracy: 0.1520\n",
            "Epoch 8/10\n",
            "425/425 [==============================] - 40s 94ms/step - loss: 5.3533 - accuracy: 0.1364 - val_loss: 5.6348 - val_accuracy: 0.1320\n",
            "Epoch 9/10\n",
            "425/425 [==============================] - 39s 92ms/step - loss: 5.5583 - accuracy: 0.1510 - val_loss: 5.3983 - val_accuracy: 0.1640\n",
            "Epoch 10/10\n",
            "425/425 [==============================] - 40s 92ms/step - loss: 5.7462 - accuracy: 0.1560 - val_loss: 5.8615 - val_accuracy: 0.1580\n"
          ]
        }
      ]
    }
  ]
}